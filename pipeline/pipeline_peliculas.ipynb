{
 "cells": [
  {
   "cell_type": "code",
   "execution_count": null,
   "metadata": {},
   "outputs": [],
   "source": [
    "import pandas as pd\n",
    "import nltk\n",
    "from nltk.corpus import stopwords\n",
    "from sklearn.pipeline import Pipeline\n",
    "from sklearn.compose import ColumnTransformer\n",
    "from sklearn.ensemble import RandomForestClassifier\n",
    "from sklearn.feature_extraction.text import CountVectorizer\n",
    "from sklearn.model_selection import train_test_split\n",
    "from sklearn.preprocessing import FunctionTransformer\n",
    "from nltk.tokenize import TweetTokenizer\n",
    "from proce import TextPreprocessor\n",
    "\n",
    "\n",
    "# Cargar los datos en un DataFrame de pandas\n",
    "movies_df = pd.read_csv('./data/MovieReviews.csv', sep=',')\n",
    "\n",
    "# Función para tokenizar los tweets\n",
    "nltk.download('punkt')\n",
    "def tokenizer(text):\n",
    "    tt = TweetTokenizer()\n",
    "    return tt.tokenize(text)\n",
    "\n",
    "# Descargando las stopwords\n",
    "nltk.download('stopwords')\n",
    "stop_words_complete = list(stopwords.words('spanish')) + list(stopwords.words('english'))\n",
    "\n",
    "\n",
    "# Crear el pipeline\n",
    "text_pipeline = Pipeline([\n",
    "    ('preprocessing', TextPreprocessor() ),\n",
    "    ('vectorizer', CountVectorizer(tokenizer=tokenizer, stop_words=stop_words_complete, lowercase=True)),\n",
    "    ('classifier', RandomForestClassifier(random_state=2))\n",
    "])\n",
    "\n",
    "\n",
    "# Dividir los datos en conjuntos de entrenamiento y prueba\n",
    "X_train, X_test, y_train, y_test = train_test_split(movies_df['review_es'], movies_df['sentimiento'], test_size=0.2, random_state=42)\n",
    "\n",
    "# Ajustar el pipeline a los datos de entrenamiento\n",
    "text_pipeline.fit(X_train, y_train)\n",
    "\n",
    "# Evaluar el pipeline en los datos de prueba\n",
    "score = text_pipeline.score(X_test, y_test)\n",
    "print(\"Accuracy:\", score)\n"
   ]
  },
  {
   "cell_type": "code",
   "execution_count": 142,
   "metadata": {},
   "outputs": [],
   "source": [
    "import pandas as pd\n",
    "import nltk\n",
    "import re\n",
    "from nltk.corpus import stopwords\n",
    "from sklearn.pipeline import Pipeline\n",
    "from sklearn.compose import ColumnTransformer\n",
    "from sklearn.ensemble import RandomForestClassifier\n",
    "from sklearn.feature_extraction.text import CountVectorizer\n",
    "from sklearn.model_selection import train_test_split\n",
    "from sklearn.preprocessing import FunctionTransformer\n",
    "from nltk.tokenize import TweetTokenizer\n",
    "from proce import TextPreprocessor\n"
   ]
  },
  {
   "cell_type": "code",
   "execution_count": 29,
   "metadata": {},
   "outputs": [
    {
     "name": "stdout",
     "output_type": "stream",
     "text": [
      "False\n"
     ]
    }
   ],
   "source": [
    "import enchant\n",
    "broker = enchant.Broker()\n",
    "broker.describe()\n",
    "broker.list_languages()\n",
    "\n",
    "es_es = enchant.Dict(\"en_US\")\n",
    "print(es_es.check(\"hola\"))"
   ]
  },
  {
   "cell_type": "code",
   "execution_count": 143,
   "metadata": {},
   "outputs": [
    {
     "name": "stderr",
     "output_type": "stream",
     "text": [
      "[nltk_data] Downloading package punkt to\n",
      "[nltk_data]     C:\\Users\\Esteban\\AppData\\Roaming\\nltk_data...\n",
      "[nltk_data]   Package punkt is already up-to-date!\n",
      "[nltk_data] Downloading package stopwords to\n",
      "[nltk_data]     C:\\Users\\Esteban\\AppData\\Roaming\\nltk_data...\n",
      "[nltk_data]   Package stopwords is already up-to-date!\n"
     ]
    }
   ],
   "source": [
    "\n",
    "# Cargar los datos en un DataFrame de pandas\n",
    "movies_df = pd.read_csv('./data/MovieReviews.csv', sep=',')\n",
    "\n",
    "# Función para tokenizar los tweets\n",
    "nltk.download('punkt')\n",
    "def tokenizer(text):\n",
    "    tt = TweetTokenizer()\n",
    "    return tt.tokenize(text)\n",
    "\n",
    "# Descargando las stopwords\n",
    "nltk.download('stopwords')\n",
    "stop_words_complete = list(stopwords.words('spanish')) + list(stopwords.words('english'))"
   ]
  },
  {
   "cell_type": "code",
   "execution_count": 144,
   "metadata": {},
   "outputs": [
    {
     "name": "stdout",
     "output_type": "stream",
     "text": [
      "Reviews initialized\n"
     ]
    }
   ],
   "source": [
    "\n",
    "# Crear el pipeline\n",
    "text_pipeline = Pipeline([\n",
    "    ('preprocessing', TextPreprocessor() ),\n",
    "    ('vectorizer', CountVectorizer(tokenizer=tokenizer, stop_words=stop_words_complete, lowercase=True)),\n",
    "    ('classifier', RandomForestClassifier(random_state=2))\n",
    "])\n"
   ]
  },
  {
   "cell_type": "code",
   "execution_count": 145,
   "metadata": {},
   "outputs": [
    {
     "data": {
      "text/plain": [
       "Index(['Unnamed: 0', 'review_es', 'sentimiento'], dtype='object')"
      ]
     },
     "execution_count": 145,
     "metadata": {},
     "output_type": "execute_result"
    }
   ],
   "source": [
    "movies_df.columns"
   ]
  },
  {
   "cell_type": "code",
   "execution_count": 146,
   "metadata": {},
   "outputs": [],
   "source": [
    "\n",
    "# Dividir los datos en conjuntos de entrenamiento y prueba\n",
    "X_train, X_test, y_train, y_test = train_test_split(movies_df['review_es'], movies_df['sentimiento'], test_size=0.2, random_state=42)\n"
   ]
  },
  {
   "cell_type": "code",
   "execution_count": 147,
   "metadata": {},
   "outputs": [
    {
     "data": {
      "text/plain": [
       "4227    negativo\n",
       "4676    negativo\n",
       "800     positivo\n",
       "3671    negativo\n",
       "4193    negativo\n",
       "          ...   \n",
       "4426    negativo\n",
       "466     positivo\n",
       "3092    negativo\n",
       "3772    negativo\n",
       "860     positivo\n",
       "Name: sentimiento, Length: 4000, dtype: object"
      ]
     },
     "execution_count": 147,
     "metadata": {},
     "output_type": "execute_result"
    }
   ],
   "source": [
    "y_train"
   ]
  },
  {
   "cell_type": "code",
   "execution_count": 148,
   "metadata": {},
   "outputs": [
    {
     "data": {
      "text/plain": [
       "4227    No puedo comprender cómo se permitió esta foto...\n",
       "4676    El escritor y director Robert Downey, Sr., un ...\n",
       "800     Es la mejor película que he visto en mi vida !...\n",
       "3671    El resumen de la trama del IMDb hace erróneame...\n",
       "4193    KK debería atenerse a cantar, toda esta pelícu...\n",
       "                              ...                        \n",
       "4426    A veces, cuando la película está pasada por lo...\n",
       "466     This Roscoe \"Fatty\" Arbuckle comedy is best re...\n",
       "3092    Si esto es todo lo que los Showowski tienen qu...\n",
       "3772    Nunca antes, un elenco tan grande de las perso...\n",
       "860     Vi esta película con mi familia y fue genial!E...\n",
       "Name: review_es, Length: 4000, dtype: object"
      ]
     },
     "execution_count": 148,
     "metadata": {},
     "output_type": "execute_result"
    }
   ],
   "source": [
    "X_train"
   ]
  },
  {
   "cell_type": "code",
   "execution_count": 149,
   "metadata": {},
   "outputs": [
    {
     "data": {
      "text/plain": [
       "array(['No puedo comprender cómo se permitió esta foto.Es principalmente, si no está completamente, inexacto, así que el personaje principal ni siquiera se asemeja a la historia que lo parece físicamente.Esta película me hizo ir a Internet y pasar por mis libros para asegurarme de que recuerdo la personalidad de Nerón correctamente.Por el amor de Dios, tengo un libro que enumera a Nero como una de las personas más malvadas del mundo y la película me hizo sentir mal por él.Debo decir que el personaje de AgraPina parecía cerca de mi entendimiento de ella, tanto física como psicológicamente.Aunque, todos los actores hicieron un buen trabajo, la película era terrible y estoy seguro de que no veré ningún otro hecho por este triste equipo.',\n",
       "       'El escritor y director Robert Downey, Sr., un pionero del movimiento de cine metro en la década de 1960, satirizó el mundo de la publicidad de Nueva York Madison Avenue con su comedia de vanguardia \"PUTNEY SHAPT\". Downey no confina su ridículo a la publicidad, sino que aborda la cultura militante negra, la dinámica en la representación de la raza de Hollywood, la estructura de poder de élite y el carácter de la corrupción en cualquier lucha de poder. Tan audaz y ambicioso, ya que \"Putney Swope\" se esfuerza por ser, califica como una película terrible, aficionadamente hecha en un presupuesto de zapatos con un lanzamiento y humor sin nombre que carece de hilaridad. Todo sobre esta película se escucha con la improvisación. \"PUTNEY SHAPE\" agitó la controversia durante su lanzamiento inicial con su manejo políticamente incorrecto de problemas de raza y cultura del consumidor. Como la mayoría de las películas de Marx Brothers, la parcela es delgada, proporcionando una excusa para las gags anecdóticas de Downey, la mayoría de las cuales son terribles. El presidente de una prestigiosa agencia de anuncios de Madison Avenue muere durante una reunión de la Junta. Antes de que se haya eliminado el cuerpo, la Junta tiene una votación secreta de votar para determinar quién lo reemplazará. Cada miembro entiende que están prohibidos para votar por sí mismo. Pura accidente ocurre cuando todos votan por el miembro negro de la token, Putney Swope (Arnold Johnson), ya que ninguno pensó que nadie le hiciera un voto. Swope Pink se desliza todos menos uno de los ejecutivos blancos, se envuelve a sí mismo con los empleados de la pistola negra, de la pistola, y cambia los nombres de la firma \"La verdad y la publicidad del alma\". PAYO decide alterar la cara de la publicidad estadounidense. Se niega a aceptar clientes cuyos productos son alcohol, tabaco o juguetes de guerra. Los clientes de SHAPE se registran un éxodo después de que se convierta en el CEO, y las nietas atraen a una nueva alineación de clientes que aparecen en sus bolsas de dinero de su oficina y se preparan para sufrir abusos de los empleados militantes de Swope. Swope explota a su personal afroamericano, también apropiadamente apropiadamente sus ideas después de que los despiertan y evoca una serie de campañas de publicidad ofensivas, todas las cuales son aclamadas como una \"nueva ola\" del genio de la comercialización. Increíblemente, el conservadurismo de SWOPE resulta exitoso, pero la Agencia se convierte en el objetivo de los operadores gubernamentales que argumentan que las tácticas publicitarias de Swope constituyen \"una amenaza para la seguridad nacional\". El punto alto de esta comedia en blanco y negro de 85 minutos son los comerciales de televisión en color. Desafortunadamente, Downey no sabe cuándo cortar estos anuncios que se inician constantemente, pero desgastan su bienvenida. La parte más divertida de \"Putney Swope\" involucra nuestros tratos de protagonistas del homosexual con el presidente MIMEO de los Estados Unidos en Washington DC (Pepi Hermine), un enano de Marihuana-Toking con un asesor teutónico de Kishuana (Larry Wolf) que escupe bromas sin sabor mientras intenta convencer a SWOPE a Sube una campaña publicitaria para su nuevo automóvil, el Borman 6.',\n",
       "       'Es la mejor película que he visto en mi vida !!!!!!¡Solo los amo !!¡Lo veo todos los días!¡Tengo los episodios de internet!¡Aquí en Rumania se está transmitiendo la temporada 6!Estoy feliz de haber visto el programa desde el principio y me alegro de que a través de Internet pueda ver la temporada 7.Hasta ahora, la temporada 5 es mi favorita: D me encanta porque aparece Logan y la escena donde saltan es mi favorito.También me he gustado Dean, pero Logan es mejor.Me gustaría que Lorelai se quedara con Christopher, porque él es hermoso.Este espectáculo es bueno para todas las edades y vale la pena verse.Realmente quiero los DVD, pero creo que aquí en Rumania nunca aparecerá, porque creo que ni siquiera saben que tienen fanáticos aquí.Pero, no importa qué, lo estaré mirando.¡¡adiós!!',\n",
       "       ...,\n",
       "       'Si esto es todo lo que los Showowski tienen que ofrecer en términos de una historia de espalda a la Matriz, de lo que realmente tengo que cuestionar las afirmaciones de todos los fanáticos que creen que las películas están destinadas a registrarse en un nivel más profundo. El segundo renacimiento, al tiempo que es visualmente impresionante y hermoso, es clichado y lejano. ¿Cuántas veces hemos escuchado la historia de los humanos que confían con demasiada tecnología, los humanos están demasiado ansiosos por hacer de la guerra, los humanos se destruyen básicamente? No hay nada nuevo aquí. Y tengo otra pregunta. Teniendo en cuenta la trama del segundo renacimiento, ¿no hace que las máquinas los buenos? Las máquinas están oprimidas por generaciones por sus crueles sobrecargantes humanos. Luchan contra la lucha, ganan su libertad y buscan establecer una coexistencia armoniosa pacífica con los humanos, que los rechazan a favor de la guerra total, que las máquinas inteligentes ganan naturalmente. Si esta es la historia posterior, entonces no deberíamos estar alentando a NEO, ¡deberíamos estar enraizando las máquinas! Los humanos eran crueles y opresivos, mientras que las máquinas eran valientes y adjadas eran compasivas. Dado que no creo que la tendencia de que el Showowski tenga la intención de favorecer las máquinas sobre los humanos, tengo que creer que el segundo Renacimiento fue simplemente un intento equivocado en la creación de una historia consecutiva.',\n",
       "       'Nunca antes, un elenco tan grande de las personas femas reunidas juntas para hacer una película igualmente fea. Algo enorme y horrorizado está suelto en las aguas de la costa de la Florida, algo que deja a la mitad masticar cuerpos atrás en su estela. Bob dependiente de la cerveza sin afeitar Piensa que ha atrapado la \"voz malvada\" de la cosa en la cinta. El asistente de Bob, la sorprendentemente poco atractiva y dolorosa stella, decide alistar la ayuda de las señoras delitos, un hombre de Peter, un electricista cuyo equipo puede ayudarlos a localizar a la criatura misteriosa. Pero cualquiera que le pegue la nariz demasiado lejos en los vientos de los misteriosos muertos, asesinados por un babuino enfrentó a Hit-Man con un mal permiso. ¿Cuál es el terrible secreto detrás del asesino marino? Los científicos feos tienen asuntos tórridos, los policías ineptos y los médicos en rompecabezas sobre los crecientes números de cadáveres, Stella y Peter se hacen en la playa y los personajes que no nos importan son asesinados o mimados. El asesino marítimo, una extraña combinación de un pulpo, un tiburón y un par de prótesis grandes, nunca parece que realmente parece amenazante como debería. La conspiración detrás de la creación del monstruo no tiene sentido en absoluto. Ninguno de los personajes es particularmente agradable, y los que podrían ser asesinados de inmediato. Este es un golpe mal, mal doblado, parcela menos lío. Todo el asunto es tan escuzzoso y maloliente, me hizo mucho tiempo para un baño caliente. He tenido platos de sushi más aterradora que esta película. Evítalo, a menos que sea la versión MST3K.',\n",
       "       'Vi esta película con mi familia y fue genial!Esta película es más que un documental (que ofrece no más que los hechos fríos) con largos mono / -duologue y muchos gráficos ... El \"poder\" completo de esta película proviene de las impresionantes imágenes que se filman bajo el agua, en elAire o el Ártico. Con viendo esta película, puede aprender más sobre nuestro planeta que con solo leer un libro, muestra que estamos incrustados en el flujo circular de la vida.Esta película no es solo para \"fanáticos ambientales\", aunque las personas que quieren lucir una buena película con un mensaje deben verlo.Esta película me enseñó que no solo estamos viviendo en la tierra ... Vivimos con y a través de la tierra y todas las plantas y animales crecen y mueren con nosotros.'],\n",
       "      dtype=object)"
      ]
     },
     "execution_count": 149,
     "metadata": {},
     "output_type": "execute_result"
    }
   ],
   "source": [
    "X_train.values"
   ]
  },
  {
   "cell_type": "code",
   "execution_count": null,
   "metadata": {},
   "outputs": [],
   "source": [
    "# Ajustar el pipeline a los datos de entrenamiento\n",
    "text_pipeline.fit(X_train, y_train)\n",
    "\n",
    "# Evaluar el pipeline en los datos de prueba\n",
    "score = text_pipeline.score(X_test, y_test)\n",
    "print(\"Accuracy:\", score)"
   ]
  }
 ],
 "metadata": {
  "kernelspec": {
   "display_name": "env",
   "language": "python",
   "name": "python3"
  },
  "language_info": {
   "codemirror_mode": {
    "name": "ipython",
    "version": 3
   },
   "file_extension": ".py",
   "mimetype": "text/x-python",
   "name": "python",
   "nbconvert_exporter": "python",
   "pygments_lexer": "ipython3",
   "version": "3.11.0"
  },
  "orig_nbformat": 4
 },
 "nbformat": 4,
 "nbformat_minor": 2
}
