{
 "cells": [
  {
   "cell_type": "code",
   "execution_count": null,
   "metadata": {},
   "outputs": [],
   "source": [
    "import pandas as pd\n",
    "import nltk\n",
    "from nltk.corpus import stopwords\n",
    "from sklearn.pipeline import Pipeline\n",
    "from sklearn.compose import ColumnTransformer\n",
    "from sklearn.ensemble import RandomForestClassifier\n",
    "from sklearn.feature_extraction.text import CountVectorizer\n",
    "from sklearn.model_selection import train_test_split\n",
    "from sklearn.preprocessing import FunctionTransformer\n",
    "from nltk.tokenize import TweetTokenizer\n",
    "from transform import TextPreprocessor\n",
    "\n",
    "\n",
    "# Cargar los datos en un DataFrame de pandas\n",
    "movies_df = pd.read_csv('./data/MovieReviews.csv', sep=',')\n",
    "\n",
    "# Función para tokenizar los tweets\n",
    "nltk.download('punkt')\n",
    "def tokenizer(text):\n",
    "    tt = TweetTokenizer()\n",
    "    return tt.tokenize(text)\n",
    "\n",
    "# Descargando las stopwords\n",
    "nltk.download('stopwords')\n",
    "stop_words_complete = list(stopwords.words('spanish')) + list(stopwords.words('english'))\n",
    "\n",
    "\n",
    "# Crear el pipeline\n",
    "text_pipeline = Pipeline([\n",
    "    ('preprocessing', TextPreprocessor() ),\n",
    "    ('vectorizer', CountVectorizer(tokenizer=tokenizer, stop_words=stop_words_complete, lowercase=True)),\n",
    "    ('classifier', RandomForestClassifier(random_state=2))\n",
    "])\n",
    "\n",
    "\n",
    "# Dividir los datos en conjuntos de entrenamiento y prueba\n",
    "X_train, X_test, y_train, y_test = train_test_split(movies_df['review_es'], movies_df['sentimiento'], test_size=0.2, random_state=42)\n",
    "\n",
    "# Ajustar el pipeline a los datos de entrenamiento\n",
    "text_pipeline.fit(X_train, y_train)\n",
    "\n",
    "# Evaluar el pipeline en los datos de prueba\n",
    "score = text_pipeline.score(X_test, y_test)\n",
    "print(\"Accuracy:\", score)\n"
   ]
  },
  {
   "cell_type": "code",
   "execution_count": 1,
   "metadata": {},
   "outputs": [],
   "source": [
    "import pandas as pd\n",
    "import nltk\n",
    "import re\n",
    "from nltk.corpus import stopwords\n",
    "from sklearn.pipeline import Pipeline\n",
    "from sklearn.compose import ColumnTransformer\n",
    "from sklearn.ensemble import RandomForestClassifier\n",
    "from sklearn.feature_extraction.text import CountVectorizer\n",
    "from sklearn.model_selection import train_test_split\n",
    "from sklearn.preprocessing import FunctionTransformer\n",
    "from nltk.tokenize import TweetTokenizer\n",
    "from transform import TextPreprocessor\n"
   ]
  },
  {
   "cell_type": "code",
   "execution_count": 6,
   "metadata": {},
   "outputs": [
    {
     "ename": "DictNotFoundError",
     "evalue": "Dictionary for language 'es_ES' could not be found\nPlease check https://pyenchant.github.io/pyenchant/ for details",
     "output_type": "error",
     "traceback": [
      "\u001b[1;31m---------------------------------------------------------------------------\u001b[0m",
      "\u001b[1;31mDictNotFoundError\u001b[0m                         Traceback (most recent call last)",
      "Cell \u001b[1;32mIn[6], line 6\u001b[0m\n\u001b[0;32m      3\u001b[0m broker\u001b[39m.\u001b[39mdescribe()\n\u001b[0;32m      4\u001b[0m broker\u001b[39m.\u001b[39mlist_languages()\n\u001b[1;32m----> 6\u001b[0m es_es \u001b[39m=\u001b[39m enchant\u001b[39m.\u001b[39;49mDict(\u001b[39m\"\u001b[39;49m\u001b[39mes_ES\u001b[39;49m\u001b[39m\"\u001b[39;49m)\n\u001b[0;32m      7\u001b[0m \u001b[39mprint\u001b[39m(es_es\u001b[39m.\u001b[39mcheck(\u001b[39m\"\u001b[39m\u001b[39mhola\u001b[39m\u001b[39m\"\u001b[39m))\n",
      "File \u001b[1;32mc:\\Users\\Esteban\\Documents\\proyectos-semestre-septimo\\inteligencia_negocios\\app-analisis-sentimientos-pelicula\\env\\Lib\\site-packages\\enchant\\__init__.py:542\u001b[0m, in \u001b[0;36mDict.__init__\u001b[1;34m(self, tag, broker)\u001b[0m\n\u001b[0;32m    540\u001b[0m \u001b[39mself\u001b[39m\u001b[39m.\u001b[39m_broker \u001b[39m=\u001b[39m broker\n\u001b[0;32m    541\u001b[0m \u001b[39m# Now let the superclass initialise the C-library object\u001b[39;00m\n\u001b[1;32m--> 542\u001b[0m \u001b[39msuper\u001b[39;49m()\u001b[39m.\u001b[39;49m\u001b[39m__init__\u001b[39;49m()\n",
      "File \u001b[1;32mc:\\Users\\Esteban\\Documents\\proyectos-semestre-septimo\\inteligencia_negocios\\app-analisis-sentimientos-pelicula\\env\\Lib\\site-packages\\enchant\\__init__.py:144\u001b[0m, in \u001b[0;36m_EnchantObject.__init__\u001b[1;34m(self)\u001b[0m\n\u001b[0;32m    141\u001b[0m \u001b[39m#  To be importable when enchant C lib is missing, we need\u001b[39;00m\n\u001b[0;32m    142\u001b[0m \u001b[39m#  to create a dummy default broker.\u001b[39;00m\n\u001b[0;32m    143\u001b[0m \u001b[39mif\u001b[39;00m _e \u001b[39mis\u001b[39;00m \u001b[39mnot\u001b[39;00m \u001b[39mNone\u001b[39;00m:\n\u001b[1;32m--> 144\u001b[0m     \u001b[39mself\u001b[39;49m\u001b[39m.\u001b[39;49m_init_this()\n",
      "File \u001b[1;32mc:\\Users\\Esteban\\Documents\\proyectos-semestre-septimo\\inteligencia_negocios\\app-analisis-sentimientos-pelicula\\env\\Lib\\site-packages\\enchant\\__init__.py:549\u001b[0m, in \u001b[0;36mDict._init_this\u001b[1;34m(self)\u001b[0m\n\u001b[0;32m    547\u001b[0m \u001b[39mself\u001b[39m\u001b[39m.\u001b[39m_this \u001b[39m=\u001b[39m \u001b[39mNone\u001b[39;00m\n\u001b[0;32m    548\u001b[0m \u001b[39mif\u001b[39;00m \u001b[39mself\u001b[39m\u001b[39m.\u001b[39mtag:\n\u001b[1;32m--> 549\u001b[0m     this \u001b[39m=\u001b[39m \u001b[39mself\u001b[39;49m\u001b[39m.\u001b[39;49m_broker\u001b[39m.\u001b[39;49m_request_dict_data(\u001b[39mself\u001b[39;49m\u001b[39m.\u001b[39;49mtag)\n\u001b[0;32m    550\u001b[0m     \u001b[39mself\u001b[39m\u001b[39m.\u001b[39m_switch_this(this, \u001b[39mself\u001b[39m\u001b[39m.\u001b[39m_broker)\n",
      "File \u001b[1;32mc:\\Users\\Esteban\\Documents\\proyectos-semestre-septimo\\inteligencia_negocios\\app-analisis-sentimientos-pelicula\\env\\Lib\\site-packages\\enchant\\__init__.py:287\u001b[0m, in \u001b[0;36mBroker._request_dict_data\u001b[1;34m(self, tag)\u001b[0m\n\u001b[0;32m    285\u001b[0m     e_str \u001b[39m=\u001b[39m \u001b[39m\"\u001b[39m\u001b[39mDictionary for language \u001b[39m\u001b[39m'\u001b[39m\u001b[39m%s\u001b[39;00m\u001b[39m'\u001b[39m\u001b[39m could not be found\u001b[39m\u001b[39m\\n\u001b[39;00m\u001b[39m\"\u001b[39m\n\u001b[0;32m    286\u001b[0m     e_str \u001b[39m+\u001b[39m\u001b[39m=\u001b[39m \u001b[39m\"\u001b[39m\u001b[39mPlease check https://pyenchant.github.io/pyenchant/ for details\u001b[39m\u001b[39m\"\u001b[39m\n\u001b[1;32m--> 287\u001b[0m     \u001b[39mself\u001b[39;49m\u001b[39m.\u001b[39;49m_raise_error(e_str \u001b[39m%\u001b[39;49m (tag,), DictNotFoundError)\n\u001b[0;32m    288\u001b[0m \u001b[39mif\u001b[39;00m new_dict \u001b[39mnot\u001b[39;00m \u001b[39min\u001b[39;00m \u001b[39mself\u001b[39m\u001b[39m.\u001b[39m_live_dicts:\n\u001b[0;32m    289\u001b[0m     \u001b[39mself\u001b[39m\u001b[39m.\u001b[39m_live_dicts[new_dict] \u001b[39m=\u001b[39m \u001b[39m1\u001b[39m\n",
      "File \u001b[1;32mc:\\Users\\Esteban\\Documents\\proyectos-semestre-septimo\\inteligencia_negocios\\app-analisis-sentimientos-pelicula\\env\\Lib\\site-packages\\enchant\\__init__.py:233\u001b[0m, in \u001b[0;36mBroker._raise_error\u001b[1;34m(self, default, eclass)\u001b[0m\n\u001b[0;32m    231\u001b[0m err \u001b[39m=\u001b[39m _e\u001b[39m.\u001b[39mbroker_get_error(\u001b[39mself\u001b[39m\u001b[39m.\u001b[39m_this)\n\u001b[0;32m    232\u001b[0m \u001b[39mif\u001b[39;00m err \u001b[39m==\u001b[39m \u001b[39m\"\u001b[39m\u001b[39m\"\u001b[39m \u001b[39mor\u001b[39;00m err \u001b[39mis\u001b[39;00m \u001b[39mNone\u001b[39;00m:\n\u001b[1;32m--> 233\u001b[0m     \u001b[39mraise\u001b[39;00m eclass(default)\n\u001b[0;32m    234\u001b[0m \u001b[39mraise\u001b[39;00m eclass(err\u001b[39m.\u001b[39mdecode())\n",
      "\u001b[1;31mDictNotFoundError\u001b[0m: Dictionary for language 'es_ES' could not be found\nPlease check https://pyenchant.github.io/pyenchant/ for details"
     ]
    }
   ],
   "source": [
    "import enchant\n",
    "broker = enchant.Broker()\n",
    "broker.describe()\n",
    "broker.list_languages()\n",
    "\n",
    "es_es = enchant.Dict(\"es_ES\")\n",
    "print(es_es.check(\"hola\"))"
   ]
  },
  {
   "cell_type": "code",
   "execution_count": 2,
   "metadata": {},
   "outputs": [
    {
     "name": "stderr",
     "output_type": "stream",
     "text": [
      "[nltk_data] Downloading package punkt to\n",
      "[nltk_data]     C:\\Users\\Esteban\\AppData\\Roaming\\nltk_data...\n",
      "[nltk_data]   Package punkt is already up-to-date!\n",
      "[nltk_data] Downloading package stopwords to\n",
      "[nltk_data]     C:\\Users\\Esteban\\AppData\\Roaming\\nltk_data...\n",
      "[nltk_data]   Package stopwords is already up-to-date!\n"
     ]
    }
   ],
   "source": [
    "\n",
    "# Cargar los datos en un DataFrame de pandas\n",
    "movies_df = pd.read_csv('./data/MovieReviews.csv', sep=',')\n",
    "\n",
    "# Función para tokenizar los tweets\n",
    "nltk.download('punkt')\n",
    "def tokenizer(text):\n",
    "    tt = TweetTokenizer()\n",
    "    return tt.tokenize(text)\n",
    "\n",
    "# Descargando las stopwords\n",
    "nltk.download('stopwords')\n",
    "stop_words_complete = list(stopwords.words('spanish')) + list(stopwords.words('english'))"
   ]
  },
  {
   "cell_type": "code",
   "execution_count": 3,
   "metadata": {},
   "outputs": [
    {
     "name": "stdout",
     "output_type": "stream",
     "text": [
      "Reviews initialized\n"
     ]
    },
    {
     "ename": "DictNotFoundError",
     "evalue": "Dictionary for language 'es_ES' could not be found\nPlease check https://pyenchant.github.io/pyenchant/ for details",
     "output_type": "error",
     "traceback": [
      "\u001b[1;31m---------------------------------------------------------------------------\u001b[0m",
      "\u001b[1;31mDictNotFoundError\u001b[0m                         Traceback (most recent call last)",
      "Cell \u001b[1;32mIn[3], line 3\u001b[0m\n\u001b[0;32m      1\u001b[0m \u001b[39m# Crear el pipeline\u001b[39;00m\n\u001b[0;32m      2\u001b[0m text_pipeline \u001b[39m=\u001b[39m Pipeline([\n\u001b[1;32m----> 3\u001b[0m     (\u001b[39m'\u001b[39m\u001b[39mpreprocessing\u001b[39m\u001b[39m'\u001b[39m, TextPreprocessor() ),\n\u001b[0;32m      4\u001b[0m     (\u001b[39m'\u001b[39m\u001b[39mvectorizer\u001b[39m\u001b[39m'\u001b[39m, CountVectorizer(tokenizer\u001b[39m=\u001b[39mtokenizer, stop_words\u001b[39m=\u001b[39mstop_words_complete, lowercase\u001b[39m=\u001b[39m\u001b[39mTrue\u001b[39;00m)),\n\u001b[0;32m      5\u001b[0m     (\u001b[39m'\u001b[39m\u001b[39mclassifier\u001b[39m\u001b[39m'\u001b[39m, RandomForestClassifier(random_state\u001b[39m=\u001b[39m\u001b[39m2\u001b[39m))\n\u001b[0;32m      6\u001b[0m ])\n",
      "File \u001b[1;32mc:\\Users\\Esteban\\Documents\\proyectos-semestre-septimo\\inteligencia_negocios\\app-analisis-sentimientos-pelicula\\pipeline\\transform.py:15\u001b[0m, in \u001b[0;36mTextPreprocessor.__init__\u001b[1;34m(self)\u001b[0m\n\u001b[0;32m     13\u001b[0m \u001b[39mprint\u001b[39m(\u001b[39m\"\u001b[39m\u001b[39mReviews initialized\u001b[39m\u001b[39m\"\u001b[39m)\n\u001b[0;32m     14\u001b[0m \u001b[39mself\u001b[39m\u001b[39m.\u001b[39men_us \u001b[39m=\u001b[39m enchant\u001b[39m.\u001b[39mDict(\u001b[39m\"\u001b[39m\u001b[39men_US\u001b[39m\u001b[39m\"\u001b[39m)\n\u001b[1;32m---> 15\u001b[0m \u001b[39mself\u001b[39m\u001b[39m.\u001b[39mes_es \u001b[39m=\u001b[39m enchant\u001b[39m.\u001b[39;49mDict(\u001b[39m\"\u001b[39;49m\u001b[39mes_ES\u001b[39;49m\u001b[39m\"\u001b[39;49m)\n\u001b[0;32m     16\u001b[0m \u001b[39mself\u001b[39m\u001b[39m.\u001b[39mpalabras_no_existe \u001b[39m=\u001b[39m []\n\u001b[0;32m     17\u001b[0m \u001b[39m\u001b[39m\u001b[39m\"\"\"\u001b[39;00m\n\u001b[0;32m     18\u001b[0m \u001b[39mself.stop_words = set(stopwords.words('english'))\u001b[39;00m\n\u001b[0;32m     19\u001b[0m \u001b[39mnltk.download('stopwords')\u001b[39;00m\n\u001b[0;32m     20\u001b[0m \u001b[39mself.stop_words = list(stopwords.words('spanish'))\u001b[39;00m\n\u001b[0;32m     21\u001b[0m \u001b[39mself.stop_words_e = list(stopwords.words('english'))\"\"\"\u001b[39;00m\n",
      "File \u001b[1;32mc:\\Users\\Esteban\\Documents\\proyectos-semestre-septimo\\inteligencia_negocios\\app-analisis-sentimientos-pelicula\\env\\Lib\\site-packages\\enchant\\__init__.py:542\u001b[0m, in \u001b[0;36mDict.__init__\u001b[1;34m(self, tag, broker)\u001b[0m\n\u001b[0;32m    540\u001b[0m \u001b[39mself\u001b[39m\u001b[39m.\u001b[39m_broker \u001b[39m=\u001b[39m broker\n\u001b[0;32m    541\u001b[0m \u001b[39m# Now let the superclass initialise the C-library object\u001b[39;00m\n\u001b[1;32m--> 542\u001b[0m \u001b[39msuper\u001b[39;49m()\u001b[39m.\u001b[39;49m\u001b[39m__init__\u001b[39;49m()\n",
      "File \u001b[1;32mc:\\Users\\Esteban\\Documents\\proyectos-semestre-septimo\\inteligencia_negocios\\app-analisis-sentimientos-pelicula\\env\\Lib\\site-packages\\enchant\\__init__.py:144\u001b[0m, in \u001b[0;36m_EnchantObject.__init__\u001b[1;34m(self)\u001b[0m\n\u001b[0;32m    141\u001b[0m \u001b[39m#  To be importable when enchant C lib is missing, we need\u001b[39;00m\n\u001b[0;32m    142\u001b[0m \u001b[39m#  to create a dummy default broker.\u001b[39;00m\n\u001b[0;32m    143\u001b[0m \u001b[39mif\u001b[39;00m _e \u001b[39mis\u001b[39;00m \u001b[39mnot\u001b[39;00m \u001b[39mNone\u001b[39;00m:\n\u001b[1;32m--> 144\u001b[0m     \u001b[39mself\u001b[39;49m\u001b[39m.\u001b[39;49m_init_this()\n",
      "File \u001b[1;32mc:\\Users\\Esteban\\Documents\\proyectos-semestre-septimo\\inteligencia_negocios\\app-analisis-sentimientos-pelicula\\env\\Lib\\site-packages\\enchant\\__init__.py:549\u001b[0m, in \u001b[0;36mDict._init_this\u001b[1;34m(self)\u001b[0m\n\u001b[0;32m    547\u001b[0m \u001b[39mself\u001b[39m\u001b[39m.\u001b[39m_this \u001b[39m=\u001b[39m \u001b[39mNone\u001b[39;00m\n\u001b[0;32m    548\u001b[0m \u001b[39mif\u001b[39;00m \u001b[39mself\u001b[39m\u001b[39m.\u001b[39mtag:\n\u001b[1;32m--> 549\u001b[0m     this \u001b[39m=\u001b[39m \u001b[39mself\u001b[39;49m\u001b[39m.\u001b[39;49m_broker\u001b[39m.\u001b[39;49m_request_dict_data(\u001b[39mself\u001b[39;49m\u001b[39m.\u001b[39;49mtag)\n\u001b[0;32m    550\u001b[0m     \u001b[39mself\u001b[39m\u001b[39m.\u001b[39m_switch_this(this, \u001b[39mself\u001b[39m\u001b[39m.\u001b[39m_broker)\n",
      "File \u001b[1;32mc:\\Users\\Esteban\\Documents\\proyectos-semestre-septimo\\inteligencia_negocios\\app-analisis-sentimientos-pelicula\\env\\Lib\\site-packages\\enchant\\__init__.py:287\u001b[0m, in \u001b[0;36mBroker._request_dict_data\u001b[1;34m(self, tag)\u001b[0m\n\u001b[0;32m    285\u001b[0m     e_str \u001b[39m=\u001b[39m \u001b[39m\"\u001b[39m\u001b[39mDictionary for language \u001b[39m\u001b[39m'\u001b[39m\u001b[39m%s\u001b[39;00m\u001b[39m'\u001b[39m\u001b[39m could not be found\u001b[39m\u001b[39m\\n\u001b[39;00m\u001b[39m\"\u001b[39m\n\u001b[0;32m    286\u001b[0m     e_str \u001b[39m+\u001b[39m\u001b[39m=\u001b[39m \u001b[39m\"\u001b[39m\u001b[39mPlease check https://pyenchant.github.io/pyenchant/ for details\u001b[39m\u001b[39m\"\u001b[39m\n\u001b[1;32m--> 287\u001b[0m     \u001b[39mself\u001b[39;49m\u001b[39m.\u001b[39;49m_raise_error(e_str \u001b[39m%\u001b[39;49m (tag,), DictNotFoundError)\n\u001b[0;32m    288\u001b[0m \u001b[39mif\u001b[39;00m new_dict \u001b[39mnot\u001b[39;00m \u001b[39min\u001b[39;00m \u001b[39mself\u001b[39m\u001b[39m.\u001b[39m_live_dicts:\n\u001b[0;32m    289\u001b[0m     \u001b[39mself\u001b[39m\u001b[39m.\u001b[39m_live_dicts[new_dict] \u001b[39m=\u001b[39m \u001b[39m1\u001b[39m\n",
      "File \u001b[1;32mc:\\Users\\Esteban\\Documents\\proyectos-semestre-septimo\\inteligencia_negocios\\app-analisis-sentimientos-pelicula\\env\\Lib\\site-packages\\enchant\\__init__.py:233\u001b[0m, in \u001b[0;36mBroker._raise_error\u001b[1;34m(self, default, eclass)\u001b[0m\n\u001b[0;32m    231\u001b[0m err \u001b[39m=\u001b[39m _e\u001b[39m.\u001b[39mbroker_get_error(\u001b[39mself\u001b[39m\u001b[39m.\u001b[39m_this)\n\u001b[0;32m    232\u001b[0m \u001b[39mif\u001b[39;00m err \u001b[39m==\u001b[39m \u001b[39m\"\u001b[39m\u001b[39m\"\u001b[39m \u001b[39mor\u001b[39;00m err \u001b[39mis\u001b[39;00m \u001b[39mNone\u001b[39;00m:\n\u001b[1;32m--> 233\u001b[0m     \u001b[39mraise\u001b[39;00m eclass(default)\n\u001b[0;32m    234\u001b[0m \u001b[39mraise\u001b[39;00m eclass(err\u001b[39m.\u001b[39mdecode())\n",
      "\u001b[1;31mDictNotFoundError\u001b[0m: Dictionary for language 'es_ES' could not be found\nPlease check https://pyenchant.github.io/pyenchant/ for details"
     ]
    }
   ],
   "source": [
    "\n",
    "# Crear el pipeline\n",
    "text_pipeline = Pipeline([\n",
    "    ('preprocessing', TextPreprocessor() ),\n",
    "    ('vectorizer', CountVectorizer(tokenizer=tokenizer, stop_words=stop_words_complete, lowercase=True)),\n",
    "    ('classifier', RandomForestClassifier(random_state=2))\n",
    "])\n"
   ]
  }
 ],
 "metadata": {
  "kernelspec": {
   "display_name": "env",
   "language": "python",
   "name": "python3"
  },
  "language_info": {
   "codemirror_mode": {
    "name": "ipython",
    "version": 3
   },
   "file_extension": ".py",
   "mimetype": "text/x-python",
   "name": "python",
   "nbconvert_exporter": "python",
   "pygments_lexer": "ipython3",
   "version": "3.11.0"
  },
  "orig_nbformat": 4
 },
 "nbformat": 4,
 "nbformat_minor": 2
}
