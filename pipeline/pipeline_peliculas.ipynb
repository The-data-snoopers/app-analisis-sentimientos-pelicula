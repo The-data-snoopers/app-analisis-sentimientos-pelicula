{
 "cells": [
  {
   "cell_type": "code",
   "execution_count": null,
   "metadata": {},
   "outputs": [],
   "source": [
    "import pandas as pd\n",
    "import nltk\n",
    "from nltk.corpus import stopwords\n",
    "from sklearn.pipeline import Pipeline\n",
    "from sklearn.compose import ColumnTransformer\n",
    "from sklearn.ensemble import RandomForestClassifier\n",
    "from sklearn.feature_extraction.text import CountVectorizer\n",
    "from sklearn.model_selection import train_test_split\n",
    "from sklearn.preprocessing import FunctionTransformer\n",
    "from nltk.tokenize import TweetTokenizer\n",
    "from proce import TextPreprocessor\n",
    "\n",
    "\n",
    "# Cargar los datos en un DataFrame de pandas\n",
    "movies_df = pd.read_csv('./data/MovieReviews.csv', sep=',')\n",
    "\n",
    "# Función para tokenizar los tweets\n",
    "nltk.download('punkt')\n",
    "def tokenizer(text):\n",
    "    tt = TweetTokenizer()\n",
    "    return tt.tokenize(text)\n",
    "\n",
    "# Descargando las stopwords\n",
    "nltk.download('stopwords')\n",
    "stop_words_complete = list(stopwords.words('spanish')) + list(stopwords.words('english'))\n",
    "\n",
    "\n",
    "# Crear el pipeline\n",
    "text_pipeline = Pipeline([\n",
    "    ('preprocessing', TextPreprocessor() ),\n",
    "    ('vectorizer', CountVectorizer(tokenizer=tokenizer, stop_words=stop_words_complete, lowercase=True)),\n",
    "    ('classifier', RandomForestClassifier(random_state=2))\n",
    "])\n",
    "\n",
    "\n",
    "# Dividir los datos en conjuntos de entrenamiento y prueba\n",
    "X_train, X_test, y_train, y_test = train_test_split(movies_df['review_es'], movies_df['sentimiento'], test_size=0.2, random_state=42)\n",
    "\n",
    "# Ajustar el pipeline a los datos de entrenamiento\n",
    "text_pipeline.fit(X_train, y_train)\n",
    "\n",
    "# Evaluar el pipeline en los datos de prueba\n",
    "score = text_pipeline.score(X_test, y_test)\n",
    "print(\"Accuracy:\", score)\n"
   ]
  },
  {
   "cell_type": "code",
   "execution_count": 6,
   "metadata": {},
   "outputs": [],
   "source": [
    "import pandas as pd\n",
    "import nltk\n",
    "import re\n",
    "from nltk.corpus import stopwords\n",
    "from sklearn.pipeline import Pipeline\n",
    "from sklearn.compose import ColumnTransformer\n",
    "from sklearn.ensemble import RandomForestClassifier\n",
    "from sklearn.feature_extraction.text import CountVectorizer\n",
    "from sklearn.model_selection import train_test_split\n",
    "from sklearn.preprocessing import FunctionTransformer\n",
    "from nltk.tokenize import TweetTokenizer\n",
    "from proce import TextPreprocessor\n"
   ]
  },
  {
   "cell_type": "code",
   "execution_count": 10,
   "metadata": {},
   "outputs": [
    {
     "data": {
      "text/plain": [
       "['en_BW',\n",
       " 'en_AU',\n",
       " 'en_BZ',\n",
       " 'en_GB',\n",
       " 'en_JM',\n",
       " 'en_DK',\n",
       " 'en_HK',\n",
       " 'en_GH',\n",
       " 'en_US',\n",
       " 'en_ZA',\n",
       " 'en_ZW',\n",
       " 'en_SG',\n",
       " 'en_NZ',\n",
       " 'en_BS',\n",
       " 'en_AG',\n",
       " 'en_PH',\n",
       " 'en_IE',\n",
       " 'en_NA',\n",
       " 'en_TT',\n",
       " 'en_IN',\n",
       " 'en_NG',\n",
       " 'en_CA']"
      ]
     },
     "execution_count": 10,
     "metadata": {},
     "output_type": "execute_result"
    }
   ],
   "source": [
    "import enchant\n",
    "broker = enchant.Broker()\n",
    "broker.describe()\n",
    "broker.list_languages()\n"
   ]
  },
  {
   "cell_type": "code",
   "execution_count": 12,
   "metadata": {},
   "outputs": [
    {
     "name": "stderr",
     "output_type": "stream",
     "text": [
      "[nltk_data] Downloading package punkt to\n",
      "[nltk_data]     C:\\Users\\Esteban\\AppData\\Roaming\\nltk_data...\n",
      "[nltk_data]   Package punkt is already up-to-date!\n",
      "[nltk_data] Downloading package stopwords to\n",
      "[nltk_data]     C:\\Users\\Esteban\\AppData\\Roaming\\nltk_data...\n",
      "[nltk_data]   Package stopwords is already up-to-date!\n"
     ]
    }
   ],
   "source": [
    "\n",
    "# Cargar los datos en un DataFrame de pandas\n",
    "movies_df = pd.read_csv('./data/MovieReviews.csv', sep=',', encoding=\"utf-8\", index_col=0)\n",
    "\n",
    "\n",
    "# Función para tokenizar los tweets\n",
    "nltk.download('punkt')\n",
    "def tokenizer(text):\n",
    "    tt = TweetTokenizer()\n",
    "    return tt.tokenize(text)\n",
    "\n",
    "# Descargando las stopwords\n",
    "nltk.download('stopwords')\n",
    "stop_words_complete = list(stopwords.words('spanish')) + list(stopwords.words('english'))"
   ]
  },
  {
   "cell_type": "code",
   "execution_count": 13,
   "metadata": {},
   "outputs": [
    {
     "name": "stdout",
     "output_type": "stream",
     "text": [
      "Reviews initialized\n"
     ]
    }
   ],
   "source": [
    "\n",
    "# Crear el pipeline\n",
    "text_pipeline = Pipeline([\n",
    "    ('preprocessing', TextPreprocessor() ),\n",
    "    ('vectorizer', CountVectorizer(tokenizer=tokenizer, stop_words=stop_words_complete, lowercase=True)),\n",
    "    ('classifier', RandomForestClassifier(random_state=2))\n",
    "])\n"
   ]
  },
  {
   "cell_type": "code",
   "execution_count": 145,
   "metadata": {},
   "outputs": [
    {
     "data": {
      "text/plain": [
       "Index(['Unnamed: 0', 'review_es', 'sentimiento'], dtype='object')"
      ]
     },
     "execution_count": 145,
     "metadata": {},
     "output_type": "execute_result"
    }
   ],
   "source": [
    "movies_df.columns"
   ]
  },
  {
   "cell_type": "code",
   "execution_count": 14,
   "metadata": {},
   "outputs": [],
   "source": [
    "\n",
    "# Dividir los datos en conjuntos de entrenamiento y prueba\n",
    "X_train, X_test, y_train, y_test = train_test_split(movies_df['review_es'], movies_df['sentimiento'], test_size=0.2, random_state=42)\n"
   ]
  },
  {
   "cell_type": "code",
   "execution_count": 147,
   "metadata": {},
   "outputs": [
    {
     "data": {
      "text/plain": [
       "4227    negativo\n",
       "4676    negativo\n",
       "800     positivo\n",
       "3671    negativo\n",
       "4193    negativo\n",
       "          ...   \n",
       "4426    negativo\n",
       "466     positivo\n",
       "3092    negativo\n",
       "3772    negativo\n",
       "860     positivo\n",
       "Name: sentimiento, Length: 4000, dtype: object"
      ]
     },
     "execution_count": 147,
     "metadata": {},
     "output_type": "execute_result"
    }
   ],
   "source": [
    "y_train"
   ]
  },
  {
   "cell_type": "code",
   "execution_count": 148,
   "metadata": {},
   "outputs": [
    {
     "data": {
      "text/plain": [
       "4227    No puedo comprender cómo se permitió esta foto...\n",
       "4676    El escritor y director Robert Downey, Sr., un ...\n",
       "800     Es la mejor película que he visto en mi vida !...\n",
       "3671    El resumen de la trama del IMDb hace erróneame...\n",
       "4193    KK debería atenerse a cantar, toda esta pelícu...\n",
       "                              ...                        \n",
       "4426    A veces, cuando la película está pasada por lo...\n",
       "466     This Roscoe \"Fatty\" Arbuckle comedy is best re...\n",
       "3092    Si esto es todo lo que los Showowski tienen qu...\n",
       "3772    Nunca antes, un elenco tan grande de las perso...\n",
       "860     Vi esta película con mi familia y fue genial!E...\n",
       "Name: review_es, Length: 4000, dtype: object"
      ]
     },
     "execution_count": 148,
     "metadata": {},
     "output_type": "execute_result"
    }
   ],
   "source": [
    "X_train"
   ]
  },
  {
   "cell_type": "code",
   "execution_count": 149,
   "metadata": {},
   "outputs": [
    {
     "data": {
      "text/plain": [
       "array(['No puedo comprender cómo se permitió esta foto.Es principalmente, si no está completamente, inexacto, así que el personaje principal ni siquiera se asemeja a la historia que lo parece físicamente.Esta película me hizo ir a Internet y pasar por mis libros para asegurarme de que recuerdo la personalidad de Nerón correctamente.Por el amor de Dios, tengo un libro que enumera a Nero como una de las personas más malvadas del mundo y la película me hizo sentir mal por él.Debo decir que el personaje de AgraPina parecía cerca de mi entendimiento de ella, tanto física como psicológicamente.Aunque, todos los actores hicieron un buen trabajo, la película era terrible y estoy seguro de que no veré ningún otro hecho por este triste equipo.',\n",
       "       'El escritor y director Robert Downey, Sr., un pionero del movimiento de cine metro en la década de 1960, satirizó el mundo de la publicidad de Nueva York Madison Avenue con su comedia de vanguardia \"PUTNEY SHAPT\". Downey no confina su ridículo a la publicidad, sino que aborda la cultura militante negra, la dinámica en la representación de la raza de Hollywood, la estructura de poder de élite y el carácter de la corrupción en cualquier lucha de poder. Tan audaz y ambicioso, ya que \"Putney Swope\" se esfuerza por ser, califica como una película terrible, aficionadamente hecha en un presupuesto de zapatos con un lanzamiento y humor sin nombre que carece de hilaridad. Todo sobre esta película se escucha con la improvisación. \"PUTNEY SHAPE\" agitó la controversia durante su lanzamiento inicial con su manejo políticamente incorrecto de problemas de raza y cultura del consumidor. Como la mayoría de las películas de Marx Brothers, la parcela es delgada, proporcionando una excusa para las gags anecdóticas de Downey, la mayoría de las cuales son terribles. El presidente de una prestigiosa agencia de anuncios de Madison Avenue muere durante una reunión de la Junta. Antes de que se haya eliminado el cuerpo, la Junta tiene una votación secreta de votar para determinar quién lo reemplazará. Cada miembro entiende que están prohibidos para votar por sí mismo. Pura accidente ocurre cuando todos votan por el miembro negro de la token, Putney Swope (Arnold Johnson), ya que ninguno pensó que nadie le hiciera un voto. Swope Pink se desliza todos menos uno de los ejecutivos blancos, se envuelve a sí mismo con los empleados de la pistola negra, de la pistola, y cambia los nombres de la firma \"La verdad y la publicidad del alma\". PAYO decide alterar la cara de la publicidad estadounidense. Se niega a aceptar clientes cuyos productos son alcohol, tabaco o juguetes de guerra. Los clientes de SHAPE se registran un éxodo después de que se convierta en el CEO, y las nietas atraen a una nueva alineación de clientes que aparecen en sus bolsas de dinero de su oficina y se preparan para sufrir abusos de los empleados militantes de Swope. Swope explota a su personal afroamericano, también apropiadamente apropiadamente sus ideas después de que los despiertan y evoca una serie de campañas de publicidad ofensivas, todas las cuales son aclamadas como una \"nueva ola\" del genio de la comercialización. Increíblemente, el conservadurismo de SWOPE resulta exitoso, pero la Agencia se convierte en el objetivo de los operadores gubernamentales que argumentan que las tácticas publicitarias de Swope constituyen \"una amenaza para la seguridad nacional\". El punto alto de esta comedia en blanco y negro de 85 minutos son los comerciales de televisión en color. Desafortunadamente, Downey no sabe cuándo cortar estos anuncios que se inician constantemente, pero desgastan su bienvenida. La parte más divertida de \"Putney Swope\" involucra nuestros tratos de protagonistas del homosexual con el presidente MIMEO de los Estados Unidos en Washington DC (Pepi Hermine), un enano de Marihuana-Toking con un asesor teutónico de Kishuana (Larry Wolf) que escupe bromas sin sabor mientras intenta convencer a SWOPE a Sube una campaña publicitaria para su nuevo automóvil, el Borman 6.',\n",
       "       'Es la mejor película que he visto en mi vida !!!!!!¡Solo los amo !!¡Lo veo todos los días!¡Tengo los episodios de internet!¡Aquí en Rumania se está transmitiendo la temporada 6!Estoy feliz de haber visto el programa desde el principio y me alegro de que a través de Internet pueda ver la temporada 7.Hasta ahora, la temporada 5 es mi favorita: D me encanta porque aparece Logan y la escena donde saltan es mi favorito.También me he gustado Dean, pero Logan es mejor.Me gustaría que Lorelai se quedara con Christopher, porque él es hermoso.Este espectáculo es bueno para todas las edades y vale la pena verse.Realmente quiero los DVD, pero creo que aquí en Rumania nunca aparecerá, porque creo que ni siquiera saben que tienen fanáticos aquí.Pero, no importa qué, lo estaré mirando.¡¡adiós!!',\n",
       "       ...,\n",
       "       'Si esto es todo lo que los Showowski tienen que ofrecer en términos de una historia de espalda a la Matriz, de lo que realmente tengo que cuestionar las afirmaciones de todos los fanáticos que creen que las películas están destinadas a registrarse en un nivel más profundo. El segundo renacimiento, al tiempo que es visualmente impresionante y hermoso, es clichado y lejano. ¿Cuántas veces hemos escuchado la historia de los humanos que confían con demasiada tecnología, los humanos están demasiado ansiosos por hacer de la guerra, los humanos se destruyen básicamente? No hay nada nuevo aquí. Y tengo otra pregunta. Teniendo en cuenta la trama del segundo renacimiento, ¿no hace que las máquinas los buenos? Las máquinas están oprimidas por generaciones por sus crueles sobrecargantes humanos. Luchan contra la lucha, ganan su libertad y buscan establecer una coexistencia armoniosa pacífica con los humanos, que los rechazan a favor de la guerra total, que las máquinas inteligentes ganan naturalmente. Si esta es la historia posterior, entonces no deberíamos estar alentando a NEO, ¡deberíamos estar enraizando las máquinas! Los humanos eran crueles y opresivos, mientras que las máquinas eran valientes y adjadas eran compasivas. Dado que no creo que la tendencia de que el Showowski tenga la intención de favorecer las máquinas sobre los humanos, tengo que creer que el segundo Renacimiento fue simplemente un intento equivocado en la creación de una historia consecutiva.',\n",
       "       'Nunca antes, un elenco tan grande de las personas femas reunidas juntas para hacer una película igualmente fea. Algo enorme y horrorizado está suelto en las aguas de la costa de la Florida, algo que deja a la mitad masticar cuerpos atrás en su estela. Bob dependiente de la cerveza sin afeitar Piensa que ha atrapado la \"voz malvada\" de la cosa en la cinta. El asistente de Bob, la sorprendentemente poco atractiva y dolorosa stella, decide alistar la ayuda de las señoras delitos, un hombre de Peter, un electricista cuyo equipo puede ayudarlos a localizar a la criatura misteriosa. Pero cualquiera que le pegue la nariz demasiado lejos en los vientos de los misteriosos muertos, asesinados por un babuino enfrentó a Hit-Man con un mal permiso. ¿Cuál es el terrible secreto detrás del asesino marino? Los científicos feos tienen asuntos tórridos, los policías ineptos y los médicos en rompecabezas sobre los crecientes números de cadáveres, Stella y Peter se hacen en la playa y los personajes que no nos importan son asesinados o mimados. El asesino marítimo, una extraña combinación de un pulpo, un tiburón y un par de prótesis grandes, nunca parece que realmente parece amenazante como debería. La conspiración detrás de la creación del monstruo no tiene sentido en absoluto. Ninguno de los personajes es particularmente agradable, y los que podrían ser asesinados de inmediato. Este es un golpe mal, mal doblado, parcela menos lío. Todo el asunto es tan escuzzoso y maloliente, me hizo mucho tiempo para un baño caliente. He tenido platos de sushi más aterradora que esta película. Evítalo, a menos que sea la versión MST3K.',\n",
       "       'Vi esta película con mi familia y fue genial!Esta película es más que un documental (que ofrece no más que los hechos fríos) con largos mono / -duologue y muchos gráficos ... El \"poder\" completo de esta película proviene de las impresionantes imágenes que se filman bajo el agua, en elAire o el Ártico. Con viendo esta película, puede aprender más sobre nuestro planeta que con solo leer un libro, muestra que estamos incrustados en el flujo circular de la vida.Esta película no es solo para \"fanáticos ambientales\", aunque las personas que quieren lucir una buena película con un mensaje deben verlo.Esta película me enseñó que no solo estamos viviendo en la tierra ... Vivimos con y a través de la tierra y todas las plantas y animales crecen y mueren con nosotros.'],\n",
       "      dtype=object)"
      ]
     },
     "execution_count": 149,
     "metadata": {},
     "output_type": "execute_result"
    }
   ],
   "source": [
    "X_train.values"
   ]
  },
  {
   "cell_type": "code",
   "execution_count": 15,
   "metadata": {},
   "outputs": [
    {
     "name": "stdout",
     "output_type": "stream",
     "text": [
      "Fitting reviews...\n",
      "Transforming reviews...\n",
      "Preprocessing text...\n"
     ]
    },
    {
     "name": "stderr",
     "output_type": "stream",
     "text": [
      "[nltk_data] Downloading package stopwords to\n",
      "[nltk_data]     C:\\Users\\Esteban\\AppData\\Roaming\\nltk_data...\n",
      "[nltk_data]   Package stopwords is already up-to-date!\n"
     ]
    },
    {
     "ename": "AttributeError",
     "evalue": "'Series' object has no attribute 'iteritems'",
     "output_type": "error",
     "traceback": [
      "\u001b[1;31m---------------------------------------------------------------------------\u001b[0m",
      "\u001b[1;31mAttributeError\u001b[0m                            Traceback (most recent call last)",
      "Cell \u001b[1;32mIn[15], line 2\u001b[0m\n\u001b[0;32m      1\u001b[0m \u001b[39m# Ajustar el pipeline a los datos de entrenamiento\u001b[39;00m\n\u001b[1;32m----> 2\u001b[0m text_pipeline\u001b[39m.\u001b[39;49mfit(X_train, y_train)\n\u001b[0;32m      4\u001b[0m \u001b[39m# Evaluar el pipeline en los datos de prueba\u001b[39;00m\n\u001b[0;32m      5\u001b[0m score \u001b[39m=\u001b[39m text_pipeline\u001b[39m.\u001b[39mscore(X_test, y_test)\n",
      "File \u001b[1;32mc:\\Users\\Esteban\\Documents\\proyectos-semestre-septimo\\inteligencia_negocios\\app-analisis-sentimientos-pelicula\\env\\Lib\\site-packages\\sklearn\\pipeline.py:401\u001b[0m, in \u001b[0;36mPipeline.fit\u001b[1;34m(self, X, y, **fit_params)\u001b[0m\n\u001b[0;32m    375\u001b[0m \u001b[39m\u001b[39m\u001b[39m\"\"\"Fit the model.\u001b[39;00m\n\u001b[0;32m    376\u001b[0m \n\u001b[0;32m    377\u001b[0m \u001b[39mFit all the transformers one after the other and transform the\u001b[39;00m\n\u001b[1;32m   (...)\u001b[0m\n\u001b[0;32m    398\u001b[0m \u001b[39m    Pipeline with fitted steps.\u001b[39;00m\n\u001b[0;32m    399\u001b[0m \u001b[39m\"\"\"\u001b[39;00m\n\u001b[0;32m    400\u001b[0m fit_params_steps \u001b[39m=\u001b[39m \u001b[39mself\u001b[39m\u001b[39m.\u001b[39m_check_fit_params(\u001b[39m*\u001b[39m\u001b[39m*\u001b[39mfit_params)\n\u001b[1;32m--> 401\u001b[0m Xt \u001b[39m=\u001b[39m \u001b[39mself\u001b[39;49m\u001b[39m.\u001b[39;49m_fit(X, y, \u001b[39m*\u001b[39;49m\u001b[39m*\u001b[39;49mfit_params_steps)\n\u001b[0;32m    402\u001b[0m \u001b[39mwith\u001b[39;00m _print_elapsed_time(\u001b[39m\"\u001b[39m\u001b[39mPipeline\u001b[39m\u001b[39m\"\u001b[39m, \u001b[39mself\u001b[39m\u001b[39m.\u001b[39m_log_message(\u001b[39mlen\u001b[39m(\u001b[39mself\u001b[39m\u001b[39m.\u001b[39msteps) \u001b[39m-\u001b[39m \u001b[39m1\u001b[39m)):\n\u001b[0;32m    403\u001b[0m     \u001b[39mif\u001b[39;00m \u001b[39mself\u001b[39m\u001b[39m.\u001b[39m_final_estimator \u001b[39m!=\u001b[39m \u001b[39m\"\u001b[39m\u001b[39mpassthrough\u001b[39m\u001b[39m\"\u001b[39m:\n",
      "File \u001b[1;32mc:\\Users\\Esteban\\Documents\\proyectos-semestre-septimo\\inteligencia_negocios\\app-analisis-sentimientos-pelicula\\env\\Lib\\site-packages\\sklearn\\pipeline.py:359\u001b[0m, in \u001b[0;36mPipeline._fit\u001b[1;34m(self, X, y, **fit_params_steps)\u001b[0m\n\u001b[0;32m    357\u001b[0m     cloned_transformer \u001b[39m=\u001b[39m clone(transformer)\n\u001b[0;32m    358\u001b[0m \u001b[39m# Fit or load from cache the current transformer\u001b[39;00m\n\u001b[1;32m--> 359\u001b[0m X, fitted_transformer \u001b[39m=\u001b[39m fit_transform_one_cached(\n\u001b[0;32m    360\u001b[0m     cloned_transformer,\n\u001b[0;32m    361\u001b[0m     X,\n\u001b[0;32m    362\u001b[0m     y,\n\u001b[0;32m    363\u001b[0m     \u001b[39mNone\u001b[39;49;00m,\n\u001b[0;32m    364\u001b[0m     message_clsname\u001b[39m=\u001b[39;49m\u001b[39m\"\u001b[39;49m\u001b[39mPipeline\u001b[39;49m\u001b[39m\"\u001b[39;49m,\n\u001b[0;32m    365\u001b[0m     message\u001b[39m=\u001b[39;49m\u001b[39mself\u001b[39;49m\u001b[39m.\u001b[39;49m_log_message(step_idx),\n\u001b[0;32m    366\u001b[0m     \u001b[39m*\u001b[39;49m\u001b[39m*\u001b[39;49mfit_params_steps[name],\n\u001b[0;32m    367\u001b[0m )\n\u001b[0;32m    368\u001b[0m \u001b[39m# Replace the transformer of the step with the fitted\u001b[39;00m\n\u001b[0;32m    369\u001b[0m \u001b[39m# transformer. This is necessary when loading the transformer\u001b[39;00m\n\u001b[0;32m    370\u001b[0m \u001b[39m# from the cache.\u001b[39;00m\n\u001b[0;32m    371\u001b[0m \u001b[39mself\u001b[39m\u001b[39m.\u001b[39msteps[step_idx] \u001b[39m=\u001b[39m (name, fitted_transformer)\n",
      "File \u001b[1;32mc:\\Users\\Esteban\\Documents\\proyectos-semestre-septimo\\inteligencia_negocios\\app-analisis-sentimientos-pelicula\\env\\Lib\\site-packages\\joblib\\memory.py:349\u001b[0m, in \u001b[0;36mNotMemorizedFunc.__call__\u001b[1;34m(self, *args, **kwargs)\u001b[0m\n\u001b[0;32m    348\u001b[0m \u001b[39mdef\u001b[39;00m \u001b[39m__call__\u001b[39m(\u001b[39mself\u001b[39m, \u001b[39m*\u001b[39margs, \u001b[39m*\u001b[39m\u001b[39m*\u001b[39mkwargs):\n\u001b[1;32m--> 349\u001b[0m     \u001b[39mreturn\u001b[39;00m \u001b[39mself\u001b[39;49m\u001b[39m.\u001b[39;49mfunc(\u001b[39m*\u001b[39;49margs, \u001b[39m*\u001b[39;49m\u001b[39m*\u001b[39;49mkwargs)\n",
      "File \u001b[1;32mc:\\Users\\Esteban\\Documents\\proyectos-semestre-septimo\\inteligencia_negocios\\app-analisis-sentimientos-pelicula\\env\\Lib\\site-packages\\sklearn\\pipeline.py:893\u001b[0m, in \u001b[0;36m_fit_transform_one\u001b[1;34m(transformer, X, y, weight, message_clsname, message, **fit_params)\u001b[0m\n\u001b[0;32m    891\u001b[0m \u001b[39mwith\u001b[39;00m _print_elapsed_time(message_clsname, message):\n\u001b[0;32m    892\u001b[0m     \u001b[39mif\u001b[39;00m \u001b[39mhasattr\u001b[39m(transformer, \u001b[39m\"\u001b[39m\u001b[39mfit_transform\u001b[39m\u001b[39m\"\u001b[39m):\n\u001b[1;32m--> 893\u001b[0m         res \u001b[39m=\u001b[39m transformer\u001b[39m.\u001b[39;49mfit_transform(X, y, \u001b[39m*\u001b[39;49m\u001b[39m*\u001b[39;49mfit_params)\n\u001b[0;32m    894\u001b[0m     \u001b[39melse\u001b[39;00m:\n\u001b[0;32m    895\u001b[0m         res \u001b[39m=\u001b[39m transformer\u001b[39m.\u001b[39mfit(X, y, \u001b[39m*\u001b[39m\u001b[39m*\u001b[39mfit_params)\u001b[39m.\u001b[39mtransform(X)\n",
      "File \u001b[1;32mc:\\Users\\Esteban\\Documents\\proyectos-semestre-septimo\\inteligencia_negocios\\app-analisis-sentimientos-pelicula\\env\\Lib\\site-packages\\sklearn\\utils\\_set_output.py:140\u001b[0m, in \u001b[0;36m_wrap_method_output.<locals>.wrapped\u001b[1;34m(self, X, *args, **kwargs)\u001b[0m\n\u001b[0;32m    138\u001b[0m \u001b[39m@wraps\u001b[39m(f)\n\u001b[0;32m    139\u001b[0m \u001b[39mdef\u001b[39;00m \u001b[39mwrapped\u001b[39m(\u001b[39mself\u001b[39m, X, \u001b[39m*\u001b[39margs, \u001b[39m*\u001b[39m\u001b[39m*\u001b[39mkwargs):\n\u001b[1;32m--> 140\u001b[0m     data_to_wrap \u001b[39m=\u001b[39m f(\u001b[39mself\u001b[39;49m, X, \u001b[39m*\u001b[39;49margs, \u001b[39m*\u001b[39;49m\u001b[39m*\u001b[39;49mkwargs)\n\u001b[0;32m    141\u001b[0m     \u001b[39mif\u001b[39;00m \u001b[39misinstance\u001b[39m(data_to_wrap, \u001b[39mtuple\u001b[39m):\n\u001b[0;32m    142\u001b[0m         \u001b[39m# only wrap the first output for cross decomposition\u001b[39;00m\n\u001b[0;32m    143\u001b[0m         \u001b[39mreturn\u001b[39;00m (\n\u001b[0;32m    144\u001b[0m             _wrap_data_with_container(method, data_to_wrap[\u001b[39m0\u001b[39m], X, \u001b[39mself\u001b[39m),\n\u001b[0;32m    145\u001b[0m             \u001b[39m*\u001b[39mdata_to_wrap[\u001b[39m1\u001b[39m:],\n\u001b[0;32m    146\u001b[0m         )\n",
      "File \u001b[1;32mc:\\Users\\Esteban\\Documents\\proyectos-semestre-septimo\\inteligencia_negocios\\app-analisis-sentimientos-pelicula\\env\\Lib\\site-packages\\sklearn\\base.py:881\u001b[0m, in \u001b[0;36mTransformerMixin.fit_transform\u001b[1;34m(self, X, y, **fit_params)\u001b[0m\n\u001b[0;32m    878\u001b[0m     \u001b[39mreturn\u001b[39;00m \u001b[39mself\u001b[39m\u001b[39m.\u001b[39mfit(X, \u001b[39m*\u001b[39m\u001b[39m*\u001b[39mfit_params)\u001b[39m.\u001b[39mtransform(X)\n\u001b[0;32m    879\u001b[0m \u001b[39melse\u001b[39;00m:\n\u001b[0;32m    880\u001b[0m     \u001b[39m# fit method of arity 2 (supervised transformation)\u001b[39;00m\n\u001b[1;32m--> 881\u001b[0m     \u001b[39mreturn\u001b[39;00m \u001b[39mself\u001b[39;49m\u001b[39m.\u001b[39;49mfit(X, y, \u001b[39m*\u001b[39;49m\u001b[39m*\u001b[39;49mfit_params)\u001b[39m.\u001b[39;49mtransform(X)\n",
      "File \u001b[1;32mc:\\Users\\Esteban\\Documents\\proyectos-semestre-septimo\\inteligencia_negocios\\app-analisis-sentimientos-pelicula\\env\\Lib\\site-packages\\sklearn\\utils\\_set_output.py:140\u001b[0m, in \u001b[0;36m_wrap_method_output.<locals>.wrapped\u001b[1;34m(self, X, *args, **kwargs)\u001b[0m\n\u001b[0;32m    138\u001b[0m \u001b[39m@wraps\u001b[39m(f)\n\u001b[0;32m    139\u001b[0m \u001b[39mdef\u001b[39;00m \u001b[39mwrapped\u001b[39m(\u001b[39mself\u001b[39m, X, \u001b[39m*\u001b[39margs, \u001b[39m*\u001b[39m\u001b[39m*\u001b[39mkwargs):\n\u001b[1;32m--> 140\u001b[0m     data_to_wrap \u001b[39m=\u001b[39m f(\u001b[39mself\u001b[39;49m, X, \u001b[39m*\u001b[39;49margs, \u001b[39m*\u001b[39;49m\u001b[39m*\u001b[39;49mkwargs)\n\u001b[0;32m    141\u001b[0m     \u001b[39mif\u001b[39;00m \u001b[39misinstance\u001b[39m(data_to_wrap, \u001b[39mtuple\u001b[39m):\n\u001b[0;32m    142\u001b[0m         \u001b[39m# only wrap the first output for cross decomposition\u001b[39;00m\n\u001b[0;32m    143\u001b[0m         \u001b[39mreturn\u001b[39;00m (\n\u001b[0;32m    144\u001b[0m             _wrap_data_with_container(method, data_to_wrap[\u001b[39m0\u001b[39m], X, \u001b[39mself\u001b[39m),\n\u001b[0;32m    145\u001b[0m             \u001b[39m*\u001b[39mdata_to_wrap[\u001b[39m1\u001b[39m:],\n\u001b[0;32m    146\u001b[0m         )\n",
      "File \u001b[1;32mc:\\Users\\Esteban\\Documents\\proyectos-semestre-septimo\\inteligencia_negocios\\app-analisis-sentimientos-pelicula\\pipeline\\proce.py:24\u001b[0m, in \u001b[0;36mTextPreprocessor.transform\u001b[1;34m(self, X, y)\u001b[0m\n\u001b[0;32m     22\u001b[0m \u001b[39mdef\u001b[39;00m \u001b[39mtransform\u001b[39m(\u001b[39mself\u001b[39m, X, y\u001b[39m=\u001b[39m\u001b[39mNone\u001b[39;00m):\n\u001b[0;32m     23\u001b[0m     \u001b[39mprint\u001b[39m(\u001b[39m\"\u001b[39m\u001b[39mTransforming reviews...\u001b[39m\u001b[39m\"\u001b[39m)\n\u001b[1;32m---> 24\u001b[0m     \u001b[39mreturn\u001b[39;00m \u001b[39mself\u001b[39;49m\u001b[39m.\u001b[39;49mpreprocess(X)\n",
      "File \u001b[1;32mc:\\Users\\Esteban\\Documents\\proyectos-semestre-septimo\\inteligencia_negocios\\app-analisis-sentimientos-pelicula\\pipeline\\proce.py:54\u001b[0m, in \u001b[0;36mTextPreprocessor.preprocess\u001b[1;34m(self, df)\u001b[0m\n\u001b[0;32m     52\u001b[0m \u001b[39m#Eliminamos las palabras que no pertenecen al Español ni Inglés\u001b[39;00m\n\u001b[0;32m     53\u001b[0m lista_correcciones \u001b[39m=\u001b[39m  []\n\u001b[1;32m---> 54\u001b[0m \u001b[39mfor\u001b[39;00m index, value \u001b[39min\u001b[39;00m movies_df[\u001b[39m'\u001b[39;49m\u001b[39mreview_es\u001b[39;49m\u001b[39m'\u001b[39;49m]\u001b[39m.\u001b[39;49miteritems():\n\u001b[0;32m     55\u001b[0m     \u001b[39mfor\u001b[39;00m word \u001b[39min\u001b[39;00m \u001b[39mself\u001b[39m\u001b[39m.\u001b[39mverificar_palabra(value):\n\u001b[0;32m     56\u001b[0m         lista_correcciones\u001b[39m.\u001b[39mappend(word)\n",
      "File \u001b[1;32mc:\\Users\\Esteban\\Documents\\proyectos-semestre-septimo\\inteligencia_negocios\\app-analisis-sentimientos-pelicula\\env\\Lib\\site-packages\\pandas\\core\\generic.py:5989\u001b[0m, in \u001b[0;36mNDFrame.__getattr__\u001b[1;34m(self, name)\u001b[0m\n\u001b[0;32m   5982\u001b[0m \u001b[39mif\u001b[39;00m (\n\u001b[0;32m   5983\u001b[0m     name \u001b[39mnot\u001b[39;00m \u001b[39min\u001b[39;00m \u001b[39mself\u001b[39m\u001b[39m.\u001b[39m_internal_names_set\n\u001b[0;32m   5984\u001b[0m     \u001b[39mand\u001b[39;00m name \u001b[39mnot\u001b[39;00m \u001b[39min\u001b[39;00m \u001b[39mself\u001b[39m\u001b[39m.\u001b[39m_metadata\n\u001b[0;32m   5985\u001b[0m     \u001b[39mand\u001b[39;00m name \u001b[39mnot\u001b[39;00m \u001b[39min\u001b[39;00m \u001b[39mself\u001b[39m\u001b[39m.\u001b[39m_accessors\n\u001b[0;32m   5986\u001b[0m     \u001b[39mand\u001b[39;00m \u001b[39mself\u001b[39m\u001b[39m.\u001b[39m_info_axis\u001b[39m.\u001b[39m_can_hold_identifiers_and_holds_name(name)\n\u001b[0;32m   5987\u001b[0m ):\n\u001b[0;32m   5988\u001b[0m     \u001b[39mreturn\u001b[39;00m \u001b[39mself\u001b[39m[name]\n\u001b[1;32m-> 5989\u001b[0m \u001b[39mreturn\u001b[39;00m \u001b[39mobject\u001b[39;49m\u001b[39m.\u001b[39;49m\u001b[39m__getattribute__\u001b[39;49m(\u001b[39mself\u001b[39;49m, name)\n",
      "\u001b[1;31mAttributeError\u001b[0m: 'Series' object has no attribute 'iteritems'"
     ]
    }
   ],
   "source": [
    "# Ajustar el pipeline a los datos de entrenamiento\n",
    "text_pipeline.fit(X_train, y_train)\n",
    "\n",
    "# Evaluar el pipeline en los datos de prueba\n",
    "score = text_pipeline.score(X_test, y_test)\n",
    "print(\"Accuracy:\", score)"
   ]
  }
 ],
 "metadata": {
  "kernelspec": {
   "display_name": "env",
   "language": "python",
   "name": "python3"
  },
  "language_info": {
   "codemirror_mode": {
    "name": "ipython",
    "version": 3
   },
   "file_extension": ".py",
   "mimetype": "text/x-python",
   "name": "python",
   "nbconvert_exporter": "python",
   "pygments_lexer": "ipython3",
   "version": "3.11.0"
  },
  "orig_nbformat": 4
 },
 "nbformat": 4,
 "nbformat_minor": 2
}
